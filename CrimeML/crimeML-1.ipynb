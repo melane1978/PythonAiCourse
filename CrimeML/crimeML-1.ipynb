{
 "cells": [
  {
   "cell_type": "code",
   "execution_count": 6,
   "metadata": {},
   "outputs": [],
   "source": [
    "import pandas as pd"
   ]
  },
  {
   "cell_type": "markdown",
   "metadata": {},
   "source": [
    "# Crime ML be <Anette> Leslie PyhonAi ITHS 2024\n",
    "\n",
    "*What do i want to Accomplish:*\n",
    "\n",
    "Can we predict in which city special crime will increase and therefore take more measures like increasing the police force, cameras and so on to stop crime in this area!\n",
    "\n",
    "\n",
    "*My Problem with my data:*\n",
    "\n",
    "I downloaded statistics from BRÅ (https://statistik.bra.se/solwebb/action/index ).\n",
    "Picked some data I wanted to focus on, like in different counties in Stockholm and the crimes of violence against people."
   ]
  },
  {
   "cell_type": "markdown",
   "metadata": {},
   "source": [
    "\n",
    "Here is a example how the data looks:\n",
    "\n",
    "Region;Brott;�r;Period;Antal;/100 000 inv\n",
    "Stockholm kommun;Brott mot brottsbalken;2022;Jan;11322;1153;\n",
    "Stockholm kommun;Brott mot brottsbalken;2022;Feb;12199;1243;\n",
    "\n",
    "I have a few problems I need to solve with this data, here is a list of those problems:\n",
    "\n",
    "1. This data uses Swedish letters, another type of unicode\n",
    "2. I will work more to a regression problem, because the data i use will be more a prediction on a linear scale.\n",
    "3. Which data is most important to USE for predicting the outcome?\n",
    "4. Have 4 files with different year, how to put these together without copy paste\n",
    "\n",
    "*Conclusion*\n",
    "\n",
    "Below i will work with my data and try to solve the problems that i have with it."
   ]
  },
  {
   "cell_type": "markdown",
   "metadata": {},
   "source": [
    "# Fixing my data!!\n"
   ]
  },
  {
   "cell_type": "code",
   "execution_count": 7,
   "metadata": {},
   "outputs": [
    {
     "ename": "UnicodeDecodeError",
     "evalue": "'utf-8' codec can't decode byte 0xc5 in position 13: invalid continuation byte",
     "output_type": "error",
     "traceback": [
      "\u001b[0;31m---------------------------------------------------------------------------\u001b[0m",
      "\u001b[0;31mUnicodeDecodeError\u001b[0m                        Traceback (most recent call last)",
      "Cell \u001b[0;32mIn[7], line 1\u001b[0m\n\u001b[0;32m----> 1\u001b[0m df \u001b[38;5;241m=\u001b[39m \u001b[43mpd\u001b[49m\u001b[38;5;241;43m.\u001b[39;49m\u001b[43mread_csv\u001b[49m\u001b[43m(\u001b[49m\u001b[38;5;124;43m'\u001b[39;49m\u001b[38;5;124;43m./data/Databasfil2020.txt\u001b[39;49m\u001b[38;5;124;43m'\u001b[39;49m\u001b[43m)\u001b[49m\n",
      "File \u001b[0;32m~/GIT/PythonAiCourse/.venv/lib/python3.12/site-packages/pandas/io/parsers/readers.py:1024\u001b[0m, in \u001b[0;36mread_csv\u001b[0;34m(filepath_or_buffer, sep, delimiter, header, names, index_col, usecols, dtype, engine, converters, true_values, false_values, skipinitialspace, skiprows, skipfooter, nrows, na_values, keep_default_na, na_filter, verbose, skip_blank_lines, parse_dates, infer_datetime_format, keep_date_col, date_parser, date_format, dayfirst, cache_dates, iterator, chunksize, compression, thousands, decimal, lineterminator, quotechar, quoting, doublequote, escapechar, comment, encoding, encoding_errors, dialect, on_bad_lines, delim_whitespace, low_memory, memory_map, float_precision, storage_options, dtype_backend)\u001b[0m\n\u001b[1;32m   1011\u001b[0m kwds_defaults \u001b[38;5;241m=\u001b[39m _refine_defaults_read(\n\u001b[1;32m   1012\u001b[0m     dialect,\n\u001b[1;32m   1013\u001b[0m     delimiter,\n\u001b[0;32m   (...)\u001b[0m\n\u001b[1;32m   1020\u001b[0m     dtype_backend\u001b[38;5;241m=\u001b[39mdtype_backend,\n\u001b[1;32m   1021\u001b[0m )\n\u001b[1;32m   1022\u001b[0m kwds\u001b[38;5;241m.\u001b[39mupdate(kwds_defaults)\n\u001b[0;32m-> 1024\u001b[0m \u001b[38;5;28;01mreturn\u001b[39;00m \u001b[43m_read\u001b[49m\u001b[43m(\u001b[49m\u001b[43mfilepath_or_buffer\u001b[49m\u001b[43m,\u001b[49m\u001b[43m \u001b[49m\u001b[43mkwds\u001b[49m\u001b[43m)\u001b[49m\n",
      "File \u001b[0;32m~/GIT/PythonAiCourse/.venv/lib/python3.12/site-packages/pandas/io/parsers/readers.py:618\u001b[0m, in \u001b[0;36m_read\u001b[0;34m(filepath_or_buffer, kwds)\u001b[0m\n\u001b[1;32m    615\u001b[0m _validate_names(kwds\u001b[38;5;241m.\u001b[39mget(\u001b[38;5;124m\"\u001b[39m\u001b[38;5;124mnames\u001b[39m\u001b[38;5;124m\"\u001b[39m, \u001b[38;5;28;01mNone\u001b[39;00m))\n\u001b[1;32m    617\u001b[0m \u001b[38;5;66;03m# Create the parser.\u001b[39;00m\n\u001b[0;32m--> 618\u001b[0m parser \u001b[38;5;241m=\u001b[39m \u001b[43mTextFileReader\u001b[49m\u001b[43m(\u001b[49m\u001b[43mfilepath_or_buffer\u001b[49m\u001b[43m,\u001b[49m\u001b[43m \u001b[49m\u001b[38;5;241;43m*\u001b[39;49m\u001b[38;5;241;43m*\u001b[39;49m\u001b[43mkwds\u001b[49m\u001b[43m)\u001b[49m\n\u001b[1;32m    620\u001b[0m \u001b[38;5;28;01mif\u001b[39;00m chunksize \u001b[38;5;129;01mor\u001b[39;00m iterator:\n\u001b[1;32m    621\u001b[0m     \u001b[38;5;28;01mreturn\u001b[39;00m parser\n",
      "File \u001b[0;32m~/GIT/PythonAiCourse/.venv/lib/python3.12/site-packages/pandas/io/parsers/readers.py:1618\u001b[0m, in \u001b[0;36mTextFileReader.__init__\u001b[0;34m(self, f, engine, **kwds)\u001b[0m\n\u001b[1;32m   1615\u001b[0m     \u001b[38;5;28mself\u001b[39m\u001b[38;5;241m.\u001b[39moptions[\u001b[38;5;124m\"\u001b[39m\u001b[38;5;124mhas_index_names\u001b[39m\u001b[38;5;124m\"\u001b[39m] \u001b[38;5;241m=\u001b[39m kwds[\u001b[38;5;124m\"\u001b[39m\u001b[38;5;124mhas_index_names\u001b[39m\u001b[38;5;124m\"\u001b[39m]\n\u001b[1;32m   1617\u001b[0m \u001b[38;5;28mself\u001b[39m\u001b[38;5;241m.\u001b[39mhandles: IOHandles \u001b[38;5;241m|\u001b[39m \u001b[38;5;28;01mNone\u001b[39;00m \u001b[38;5;241m=\u001b[39m \u001b[38;5;28;01mNone\u001b[39;00m\n\u001b[0;32m-> 1618\u001b[0m \u001b[38;5;28mself\u001b[39m\u001b[38;5;241m.\u001b[39m_engine \u001b[38;5;241m=\u001b[39m \u001b[38;5;28;43mself\u001b[39;49m\u001b[38;5;241;43m.\u001b[39;49m\u001b[43m_make_engine\u001b[49m\u001b[43m(\u001b[49m\u001b[43mf\u001b[49m\u001b[43m,\u001b[49m\u001b[43m \u001b[49m\u001b[38;5;28;43mself\u001b[39;49m\u001b[38;5;241;43m.\u001b[39;49m\u001b[43mengine\u001b[49m\u001b[43m)\u001b[49m\n",
      "File \u001b[0;32m~/GIT/PythonAiCourse/.venv/lib/python3.12/site-packages/pandas/io/parsers/readers.py:1896\u001b[0m, in \u001b[0;36mTextFileReader._make_engine\u001b[0;34m(self, f, engine)\u001b[0m\n\u001b[1;32m   1893\u001b[0m     \u001b[38;5;28;01mraise\u001b[39;00m \u001b[38;5;167;01mValueError\u001b[39;00m(msg)\n\u001b[1;32m   1895\u001b[0m \u001b[38;5;28;01mtry\u001b[39;00m:\n\u001b[0;32m-> 1896\u001b[0m     \u001b[38;5;28;01mreturn\u001b[39;00m \u001b[43mmapping\u001b[49m\u001b[43m[\u001b[49m\u001b[43mengine\u001b[49m\u001b[43m]\u001b[49m\u001b[43m(\u001b[49m\u001b[43mf\u001b[49m\u001b[43m,\u001b[49m\u001b[43m \u001b[49m\u001b[38;5;241;43m*\u001b[39;49m\u001b[38;5;241;43m*\u001b[39;49m\u001b[38;5;28;43mself\u001b[39;49m\u001b[38;5;241;43m.\u001b[39;49m\u001b[43moptions\u001b[49m\u001b[43m)\u001b[49m\n\u001b[1;32m   1897\u001b[0m \u001b[38;5;28;01mexcept\u001b[39;00m \u001b[38;5;167;01mException\u001b[39;00m:\n\u001b[1;32m   1898\u001b[0m     \u001b[38;5;28;01mif\u001b[39;00m \u001b[38;5;28mself\u001b[39m\u001b[38;5;241m.\u001b[39mhandles \u001b[38;5;129;01mis\u001b[39;00m \u001b[38;5;129;01mnot\u001b[39;00m \u001b[38;5;28;01mNone\u001b[39;00m:\n",
      "File \u001b[0;32m~/GIT/PythonAiCourse/.venv/lib/python3.12/site-packages/pandas/io/parsers/c_parser_wrapper.py:93\u001b[0m, in \u001b[0;36mCParserWrapper.__init__\u001b[0;34m(self, src, **kwds)\u001b[0m\n\u001b[1;32m     90\u001b[0m \u001b[38;5;28;01mif\u001b[39;00m kwds[\u001b[38;5;124m\"\u001b[39m\u001b[38;5;124mdtype_backend\u001b[39m\u001b[38;5;124m\"\u001b[39m] \u001b[38;5;241m==\u001b[39m \u001b[38;5;124m\"\u001b[39m\u001b[38;5;124mpyarrow\u001b[39m\u001b[38;5;124m\"\u001b[39m:\n\u001b[1;32m     91\u001b[0m     \u001b[38;5;66;03m# Fail here loudly instead of in cython after reading\u001b[39;00m\n\u001b[1;32m     92\u001b[0m     import_optional_dependency(\u001b[38;5;124m\"\u001b[39m\u001b[38;5;124mpyarrow\u001b[39m\u001b[38;5;124m\"\u001b[39m)\n\u001b[0;32m---> 93\u001b[0m \u001b[38;5;28mself\u001b[39m\u001b[38;5;241m.\u001b[39m_reader \u001b[38;5;241m=\u001b[39m \u001b[43mparsers\u001b[49m\u001b[38;5;241;43m.\u001b[39;49m\u001b[43mTextReader\u001b[49m\u001b[43m(\u001b[49m\u001b[43msrc\u001b[49m\u001b[43m,\u001b[49m\u001b[43m \u001b[49m\u001b[38;5;241;43m*\u001b[39;49m\u001b[38;5;241;43m*\u001b[39;49m\u001b[43mkwds\u001b[49m\u001b[43m)\u001b[49m\n\u001b[1;32m     95\u001b[0m \u001b[38;5;28mself\u001b[39m\u001b[38;5;241m.\u001b[39munnamed_cols \u001b[38;5;241m=\u001b[39m \u001b[38;5;28mself\u001b[39m\u001b[38;5;241m.\u001b[39m_reader\u001b[38;5;241m.\u001b[39munnamed_cols\n\u001b[1;32m     97\u001b[0m \u001b[38;5;66;03m# error: Cannot determine type of 'names'\u001b[39;00m\n",
      "File \u001b[0;32mparsers.pyx:574\u001b[0m, in \u001b[0;36mpandas._libs.parsers.TextReader.__cinit__\u001b[0;34m()\u001b[0m\n",
      "File \u001b[0;32mparsers.pyx:663\u001b[0m, in \u001b[0;36mpandas._libs.parsers.TextReader._get_header\u001b[0;34m()\u001b[0m\n",
      "File \u001b[0;32mparsers.pyx:874\u001b[0m, in \u001b[0;36mpandas._libs.parsers.TextReader._tokenize_rows\u001b[0;34m()\u001b[0m\n",
      "File \u001b[0;32mparsers.pyx:891\u001b[0m, in \u001b[0;36mpandas._libs.parsers.TextReader._check_tokenize_status\u001b[0;34m()\u001b[0m\n",
      "File \u001b[0;32mparsers.pyx:2053\u001b[0m, in \u001b[0;36mpandas._libs.parsers.raise_parser_error\u001b[0;34m()\u001b[0m\n",
      "File \u001b[0;32m<frozen codecs>:322\u001b[0m, in \u001b[0;36mdecode\u001b[0;34m(self, input, final)\u001b[0m\n",
      "\u001b[0;31mUnicodeDecodeError\u001b[0m: 'utf-8' codec can't decode byte 0xc5 in position 13: invalid continuation byte"
     ]
    }
   ],
   "source": [
    "df = pd.read_csv('./data/Databasfil2020.txt')"
   ]
  },
  {
   "cell_type": "markdown",
   "metadata": {},
   "source": [
    "Ok we have some unicode problems lets fix that!\n",
    "\n",
    "Lets check which encoding i need for Swedish.\n",
    "\n",
    "https://en.wikipedia.org/wiki/ISO/IEC_8859-1\n",
    "\n"
   ]
  },
  {
   "cell_type": "code",
   "execution_count": 8,
   "metadata": {},
   "outputs": [
    {
     "data": {
      "text/html": [
       "<div>\n",
       "<style scoped>\n",
       "    .dataframe tbody tr th:only-of-type {\n",
       "        vertical-align: middle;\n",
       "    }\n",
       "\n",
       "    .dataframe tbody tr th {\n",
       "        vertical-align: top;\n",
       "    }\n",
       "\n",
       "    .dataframe thead th {\n",
       "        text-align: right;\n",
       "    }\n",
       "</style>\n",
       "<table border=\"1\" class=\"dataframe\">\n",
       "  <thead>\n",
       "    <tr style=\"text-align: right;\">\n",
       "      <th></th>\n",
       "      <th>Region;Brott;År;Period;Antal;/100 000 inv</th>\n",
       "    </tr>\n",
       "  </thead>\n",
       "  <tbody>\n",
       "    <tr>\n",
       "      <th>0</th>\n",
       "      <td>Botkyrka kommun;3-7 kap. Brott mot person;2020...</td>\n",
       "    </tr>\n",
       "    <tr>\n",
       "      <th>1</th>\n",
       "      <td>Botkyrka kommun;3-7 kap. Brott mot person;2020...</td>\n",
       "    </tr>\n",
       "    <tr>\n",
       "      <th>2</th>\n",
       "      <td>Botkyrka kommun;3-7 kap. Brott mot person;2020...</td>\n",
       "    </tr>\n",
       "    <tr>\n",
       "      <th>3</th>\n",
       "      <td>Botkyrka kommun;3-7 kap. Brott mot person;2020...</td>\n",
       "    </tr>\n",
       "    <tr>\n",
       "      <th>4</th>\n",
       "      <td>Botkyrka kommun;3-7 kap. Brott mot person;2020...</td>\n",
       "    </tr>\n",
       "  </tbody>\n",
       "</table>\n",
       "</div>"
      ],
      "text/plain": [
       "           Region;Brott;År;Period;Antal;/100 000 inv\n",
       "0  Botkyrka kommun;3-7 kap. Brott mot person;2020...\n",
       "1  Botkyrka kommun;3-7 kap. Brott mot person;2020...\n",
       "2  Botkyrka kommun;3-7 kap. Brott mot person;2020...\n",
       "3  Botkyrka kommun;3-7 kap. Brott mot person;2020...\n",
       "4  Botkyrka kommun;3-7 kap. Brott mot person;2020..."
      ]
     },
     "execution_count": 8,
     "metadata": {},
     "output_type": "execute_result"
    }
   ],
   "source": [
    "df = pd.read_csv('./data/Databasfil2020.txt', encoding=\"ISO-8859-1\")\n",
    "df.head()"
   ]
  },
  {
   "cell_type": "markdown",
   "metadata": {},
   "source": [
    "We have multiple files, lets concat them together"
   ]
  },
  {
   "cell_type": "code",
   "execution_count": 9,
   "metadata": {},
   "outputs": [],
   "source": [
    "import pandas as pd\n",
    "import glob\n",
    "import functools\n",
    "\n",
    "df = pd.concat(map(functools.partial(pd.read_csv,  encoding=\"ISO-8859-1\"), glob.glob(\"data/*.txt\")))"
   ]
  },
  {
   "cell_type": "code",
   "execution_count": 10,
   "metadata": {},
   "outputs": [
    {
     "data": {
      "text/html": [
       "<div>\n",
       "<style scoped>\n",
       "    .dataframe tbody tr th:only-of-type {\n",
       "        vertical-align: middle;\n",
       "    }\n",
       "\n",
       "    .dataframe tbody tr th {\n",
       "        vertical-align: top;\n",
       "    }\n",
       "\n",
       "    .dataframe thead th {\n",
       "        text-align: right;\n",
       "    }\n",
       "</style>\n",
       "<table border=\"1\" class=\"dataframe\">\n",
       "  <thead>\n",
       "    <tr style=\"text-align: right;\">\n",
       "      <th></th>\n",
       "      <th>Region;Brott;År;Period;Antal;/100 000 inv</th>\n",
       "    </tr>\n",
       "  </thead>\n",
       "  <tbody>\n",
       "    <tr>\n",
       "      <th>0</th>\n",
       "      <td>Botkyrka kommun;3-7 kap. Brott mot person;2021...</td>\n",
       "    </tr>\n",
       "    <tr>\n",
       "      <th>1</th>\n",
       "      <td>Botkyrka kommun;3-7 kap. Brott mot person;2021...</td>\n",
       "    </tr>\n",
       "    <tr>\n",
       "      <th>2</th>\n",
       "      <td>Botkyrka kommun;3-7 kap. Brott mot person;2021...</td>\n",
       "    </tr>\n",
       "    <tr>\n",
       "      <th>3</th>\n",
       "      <td>Botkyrka kommun;3-7 kap. Brott mot person;2021...</td>\n",
       "    </tr>\n",
       "    <tr>\n",
       "      <th>4</th>\n",
       "      <td>Botkyrka kommun;3-7 kap. Brott mot person;2021...</td>\n",
       "    </tr>\n",
       "    <tr>\n",
       "      <th>...</th>\n",
       "      <td>...</td>\n",
       "    </tr>\n",
       "    <tr>\n",
       "      <th>5539</th>\n",
       "      <td>Österåker kommun;7 kap. Brott mot familj;2023 ...</td>\n",
       "    </tr>\n",
       "    <tr>\n",
       "      <th>5540</th>\n",
       "      <td>Österåker kommun;7 kap. Brott mot familj;2023 ...</td>\n",
       "    </tr>\n",
       "    <tr>\n",
       "      <th>5541</th>\n",
       "      <td>Österåker kommun;7 kap. Brott mot familj;2023 ...</td>\n",
       "    </tr>\n",
       "    <tr>\n",
       "      <th>5542</th>\n",
       "      <td>Österåker kommun;7 kap. Brott mot familj;2023 ...</td>\n",
       "    </tr>\n",
       "    <tr>\n",
       "      <th>5543</th>\n",
       "      <td>Österåker kommun;7 kap. Brott mot familj;2023 ...</td>\n",
       "    </tr>\n",
       "  </tbody>\n",
       "</table>\n",
       "<p>22176 rows × 1 columns</p>\n",
       "</div>"
      ],
      "text/plain": [
       "              Region;Brott;År;Period;Antal;/100 000 inv\n",
       "0     Botkyrka kommun;3-7 kap. Brott mot person;2021...\n",
       "1     Botkyrka kommun;3-7 kap. Brott mot person;2021...\n",
       "2     Botkyrka kommun;3-7 kap. Brott mot person;2021...\n",
       "3     Botkyrka kommun;3-7 kap. Brott mot person;2021...\n",
       "4     Botkyrka kommun;3-7 kap. Brott mot person;2021...\n",
       "...                                                 ...\n",
       "5539  Österåker kommun;7 kap. Brott mot familj;2023 ...\n",
       "5540  Österåker kommun;7 kap. Brott mot familj;2023 ...\n",
       "5541  Österåker kommun;7 kap. Brott mot familj;2023 ...\n",
       "5542  Österåker kommun;7 kap. Brott mot familj;2023 ...\n",
       "5543  Österåker kommun;7 kap. Brott mot familj;2023 ...\n",
       "\n",
       "[22176 rows x 1 columns]"
      ]
     },
     "execution_count": 10,
     "metadata": {},
     "output_type": "execute_result"
    }
   ],
   "source": [
    "df"
   ]
  },
  {
   "cell_type": "markdown",
   "metadata": {},
   "source": [
    "YEAH! That fixed the encoding problem..\n",
    "But now I have a new problem?! 22176 rows but just 1 column!\n",
    "\n",
    "Need to fix the data so i get some good columns, lets use a separator as ; because thats is what separates the text and remove our index column."
   ]
  },
  {
   "cell_type": "code",
   "execution_count": 11,
   "metadata": {},
   "outputs": [
    {
     "data": {
      "text/html": [
       "<div>\n",
       "<style scoped>\n",
       "    .dataframe tbody tr th:only-of-type {\n",
       "        vertical-align: middle;\n",
       "    }\n",
       "\n",
       "    .dataframe tbody tr th {\n",
       "        vertical-align: top;\n",
       "    }\n",
       "\n",
       "    .dataframe thead th {\n",
       "        text-align: right;\n",
       "    }\n",
       "</style>\n",
       "<table border=\"1\" class=\"dataframe\">\n",
       "  <thead>\n",
       "    <tr style=\"text-align: right;\">\n",
       "      <th></th>\n",
       "      <th>Region</th>\n",
       "      <th>Brott</th>\n",
       "      <th>År</th>\n",
       "      <th>Period</th>\n",
       "      <th>Antal</th>\n",
       "      <th>/100 000 inv</th>\n",
       "    </tr>\n",
       "  </thead>\n",
       "  <tbody>\n",
       "    <tr>\n",
       "      <th>0</th>\n",
       "      <td>Botkyrka kommun</td>\n",
       "      <td>3-7 kap. Brott mot person</td>\n",
       "      <td>2021</td>\n",
       "      <td>Jan</td>\n",
       "      <td>241</td>\n",
       "      <td>253</td>\n",
       "    </tr>\n",
       "    <tr>\n",
       "      <th>1</th>\n",
       "      <td>Botkyrka kommun</td>\n",
       "      <td>3-7 kap. Brott mot person</td>\n",
       "      <td>2021</td>\n",
       "      <td>Feb</td>\n",
       "      <td>238</td>\n",
       "      <td>250</td>\n",
       "    </tr>\n",
       "    <tr>\n",
       "      <th>2</th>\n",
       "      <td>Botkyrka kommun</td>\n",
       "      <td>3-7 kap. Brott mot person</td>\n",
       "      <td>2021</td>\n",
       "      <td>Mar</td>\n",
       "      <td>196</td>\n",
       "      <td>206</td>\n",
       "    </tr>\n",
       "    <tr>\n",
       "      <th>3</th>\n",
       "      <td>Botkyrka kommun</td>\n",
       "      <td>3-7 kap. Brott mot person</td>\n",
       "      <td>2021</td>\n",
       "      <td>Apr</td>\n",
       "      <td>242</td>\n",
       "      <td>255</td>\n",
       "    </tr>\n",
       "    <tr>\n",
       "      <th>4</th>\n",
       "      <td>Botkyrka kommun</td>\n",
       "      <td>3-7 kap. Brott mot person</td>\n",
       "      <td>2021</td>\n",
       "      <td>Maj</td>\n",
       "      <td>254</td>\n",
       "      <td>267</td>\n",
       "    </tr>\n",
       "    <tr>\n",
       "      <th>...</th>\n",
       "      <td>...</td>\n",
       "      <td>...</td>\n",
       "      <td>...</td>\n",
       "      <td>...</td>\n",
       "      <td>...</td>\n",
       "      <td>...</td>\n",
       "    </tr>\n",
       "    <tr>\n",
       "      <th>5539</th>\n",
       "      <td>Österåker kommun</td>\n",
       "      <td>7 kap. Brott mot familj</td>\n",
       "      <td>2023 prel.</td>\n",
       "      <td>Aug</td>\n",
       "      <td>0</td>\n",
       "      <td>0</td>\n",
       "    </tr>\n",
       "    <tr>\n",
       "      <th>5540</th>\n",
       "      <td>Österåker kommun</td>\n",
       "      <td>7 kap. Brott mot familj</td>\n",
       "      <td>2023 prel.</td>\n",
       "      <td>Sep</td>\n",
       "      <td>0</td>\n",
       "      <td>0</td>\n",
       "    </tr>\n",
       "    <tr>\n",
       "      <th>5541</th>\n",
       "      <td>Österåker kommun</td>\n",
       "      <td>7 kap. Brott mot familj</td>\n",
       "      <td>2023 prel.</td>\n",
       "      <td>Okt</td>\n",
       "      <td>0</td>\n",
       "      <td>0</td>\n",
       "    </tr>\n",
       "    <tr>\n",
       "      <th>5542</th>\n",
       "      <td>Österåker kommun</td>\n",
       "      <td>7 kap. Brott mot familj</td>\n",
       "      <td>2023 prel.</td>\n",
       "      <td>Nov</td>\n",
       "      <td>0</td>\n",
       "      <td>0</td>\n",
       "    </tr>\n",
       "    <tr>\n",
       "      <th>5543</th>\n",
       "      <td>Österåker kommun</td>\n",
       "      <td>7 kap. Brott mot familj</td>\n",
       "      <td>2023 prel.</td>\n",
       "      <td>Dec</td>\n",
       "      <td>1</td>\n",
       "      <td>2</td>\n",
       "    </tr>\n",
       "  </tbody>\n",
       "</table>\n",
       "<p>22176 rows × 6 columns</p>\n",
       "</div>"
      ],
      "text/plain": [
       "                Region                      Brott          År Period  Antal  \\\n",
       "0      Botkyrka kommun  3-7 kap. Brott mot person        2021    Jan    241   \n",
       "1      Botkyrka kommun  3-7 kap. Brott mot person        2021    Feb    238   \n",
       "2      Botkyrka kommun  3-7 kap. Brott mot person        2021    Mar    196   \n",
       "3      Botkyrka kommun  3-7 kap. Brott mot person        2021    Apr    242   \n",
       "4      Botkyrka kommun  3-7 kap. Brott mot person        2021    Maj    254   \n",
       "...                ...                        ...         ...    ...    ...   \n",
       "5539  Österåker kommun    7 kap. Brott mot familj  2023 prel.    Aug      0   \n",
       "5540  Österåker kommun    7 kap. Brott mot familj  2023 prel.    Sep      0   \n",
       "5541  Österåker kommun    7 kap. Brott mot familj  2023 prel.    Okt      0   \n",
       "5542  Österåker kommun    7 kap. Brott mot familj  2023 prel.    Nov      0   \n",
       "5543  Österåker kommun    7 kap. Brott mot familj  2023 prel.    Dec      1   \n",
       "\n",
       "      /100 000 inv  \n",
       "0              253  \n",
       "1              250  \n",
       "2              206  \n",
       "3              255  \n",
       "4              267  \n",
       "...            ...  \n",
       "5539             0  \n",
       "5540             0  \n",
       "5541             0  \n",
       "5542             0  \n",
       "5543             2  \n",
       "\n",
       "[22176 rows x 6 columns]"
      ]
     },
     "execution_count": 11,
     "metadata": {},
     "output_type": "execute_result"
    }
   ],
   "source": [
    "# Testing one file\n",
    "#df = pd.read_csv('./data/Databasfil2020.txt', encoding=\"ISO-8859-1\", sep=\";\", index_col=False )\n",
    "\n",
    "\n",
    "df = pd.concat(map(functools.partial(pd.read_csv, encoding=\"ISO-8859-1\", sep=\";\", index_col=False ), glob.glob(\"data/*.txt\")))\n",
    "df"
   ]
  },
  {
   "cell_type": "markdown",
   "metadata": {},
   "source": [
    "Lets get to know our data"
   ]
  },
  {
   "cell_type": "code",
   "execution_count": 12,
   "metadata": {},
   "outputs": [
    {
     "data": {
      "text/plain": [
       "0                                        Botkyrka kommun\n",
       "168                                      Danderyd kommun\n",
       "336                                       Haninge kommun\n",
       "504                                      Huddinge kommun\n",
       "672                                      Järfälla kommun\n",
       "840                                       Knivsta kommun\n",
       "1008                                      Lidingö kommun\n",
       "1176                                        Nacka kommun\n",
       "1344                                    Norrtälje kommun\n",
       "1512                                        Salem kommun\n",
       "1680                                      Sigtuna kommun\n",
       "1848                                   Sollentuna kommun\n",
       "2016                                        Solna kommun\n",
       "2184                      Stadsdelsområde Bromma (Sthlm)\n",
       "2352    Stadsdelsområde Enskede - Årsta - Vantör (Sthlm)\n",
       "2520                      Stadsdelsområde Farsta (Sthlm)\n",
       "2688            Stadsdelsområde Hägersten-Älvsjö (Sthlm)\n",
       "2856        Stadsdelsområde Hässelby - Vällingby (Sthlm)\n",
       "3024                 Stadsdelsområde Kungsholmen (Sthlm)\n",
       "3192                    Stadsdelsområde Norrmalm (Sthlm)\n",
       "3360               Stadsdelsområde Rinkeby-Kista (Sthlm)\n",
       "3528                   Stadsdelsområde Skarpnäck (Sthlm)\n",
       "3696                  Stadsdelsområde Skärholmen (Sthlm)\n",
       "3864             Stadsdelsområde Spånga - Tensta (Sthlm)\n",
       "4032                                   Sundbyberg kommun\n",
       "4200                                   Södertälje kommun\n",
       "4368                                       Tyresö kommun\n",
       "4536                                         Täby kommun\n",
       "4704                               Upplands Väsby kommun\n",
       "4872                                   Vallentuna kommun\n",
       "5040                                      Vaxholm kommun\n",
       "5208                                       Värmdö kommun\n",
       "5376                                    Österåker kommun\n",
       "Name: Region, dtype: object"
      ]
     },
     "execution_count": 12,
     "metadata": {},
     "output_type": "execute_result"
    }
   ],
   "source": [
    "# Which Regions do I have?\n",
    "reg = df['Region'].drop_duplicates()\n",
    "reg"
   ]
  },
  {
   "cell_type": "code",
   "execution_count": 13,
   "metadata": {},
   "outputs": [
    {
     "data": {
      "text/plain": [
       "0             3-7 kap. Brott mot person\n",
       "24       3 kap. Brott mot liv och hälsa\n",
       "60          därav misshandel inkl. grov\n",
       "84     4 kap. Brott mot frihet och frid\n",
       "108           5 kap. Ärekränkningsbrott\n",
       "132                  6 kap. Sexualbrott\n",
       "156             7 kap. Brott mot familj\n",
       "Name: Brott, dtype: object"
      ]
     },
     "execution_count": 13,
     "metadata": {},
     "output_type": "execute_result"
    }
   ],
   "source": [
    "\n",
    "# Which Crime do I have?\n",
    "crime = df['Brott'].drop_duplicates()\n",
    "crime\n"
   ]
  },
  {
   "cell_type": "code",
   "execution_count": 14,
   "metadata": {},
   "outputs": [
    {
     "data": {
      "text/plain": [
       "0          2021\n",
       "0          2020\n",
       "0          2022\n",
       "0    2023 prel.\n",
       "Name: År, dtype: object"
      ]
     },
     "execution_count": 14,
     "metadata": {},
     "output_type": "execute_result"
    }
   ],
   "source": [
    "\n",
    "# Which year do I have?\n",
    "year = df['År'].drop_duplicates()\n",
    "year"
   ]
  },
  {
   "cell_type": "code",
   "execution_count": 15,
   "metadata": {},
   "outputs": [
    {
     "data": {
      "text/plain": [
       "0     Jan\n",
       "1     Feb\n",
       "2     Mar\n",
       "3     Apr\n",
       "4     Maj\n",
       "5     Jun\n",
       "6     Jul\n",
       "7     Aug\n",
       "8     Sep\n",
       "9     Okt\n",
       "10    Nov\n",
       "11    Dec\n",
       "Name: Period, dtype: object"
      ]
     },
     "execution_count": 15,
     "metadata": {},
     "output_type": "execute_result"
    }
   ],
   "source": [
    "# Which Period do I have?\n",
    "month = df['Period'].drop_duplicates()\n",
    "month"
   ]
  },
  {
   "cell_type": "code",
   "execution_count": 17,
   "metadata": {},
   "outputs": [
    {
     "data": {
      "text/plain": [
       "0       241\n",
       "1       238\n",
       "2       196\n",
       "3       242\n",
       "4       254\n",
       "       ... \n",
       "5539      0\n",
       "5540      0\n",
       "5541      0\n",
       "5542      0\n",
       "5543      1\n",
       "Name: Antal, Length: 22176, dtype: int64"
      ]
     },
     "execution_count": 17,
     "metadata": {},
     "output_type": "execute_result"
    }
   ],
   "source": [
    "#  Crime rate?\n",
    "rate = df['Antal']\n",
    "rate"
   ]
  },
  {
   "cell_type": "code",
   "execution_count": 18,
   "metadata": {},
   "outputs": [
    {
     "data": {
      "text/plain": [
       "0       253\n",
       "1       250\n",
       "2       206\n",
       "3       255\n",
       "4       267\n",
       "       ... \n",
       "5539      0\n",
       "5540      0\n",
       "5541      0\n",
       "5542      0\n",
       "5543      2\n",
       "Name: /100 000 inv, Length: 22176, dtype: int64"
      ]
     },
     "execution_count": 18,
     "metadata": {},
     "output_type": "execute_result"
    }
   ],
   "source": [
    "# Per 100000 capital\n",
    "\n",
    "# Which data do I have?\n",
    "cap = df['/100 000 inv']\n",
    "cap"
   ]
  },
  {
   "cell_type": "code",
   "execution_count": 19,
   "metadata": {},
   "outputs": [
    {
     "data": {
      "text/plain": [
       "Region          object\n",
       "Brott           object\n",
       "År              object\n",
       "Period          object\n",
       "Antal            int64\n",
       "/100 000 inv     int64\n",
       "dtype: object"
      ]
     },
     "execution_count": 19,
     "metadata": {},
     "output_type": "execute_result"
    }
   ],
   "source": [
    "# What datatypes do i have\n",
    "df.dtypes"
   ]
  },
  {
   "cell_type": "markdown",
   "metadata": {},
   "source": [
    "I have a problem with my datatypes, have 4 type of objects, need to convert these to values to readable for the computer.\n",
    "Lets do some boolean encoding with help of get_dummies"
   ]
  },
  {
   "cell_type": "code",
   "execution_count": 20,
   "metadata": {},
   "outputs": [],
   "source": [
    "encoded_reg = pd.get_dummies(df, columns=['Region'])\n",
    "encoded_brott = pd.get_dummies(df, columns=['Brott'])\n",
    "encoded_year = pd.get_dummies(df, columns=['År'])\n",
    "encoded_per = pd.get_dummies(df, columns=['Period'])\n"
   ]
  },
  {
   "cell_type": "code",
   "execution_count": 21,
   "metadata": {},
   "outputs": [
    {
     "name": "stdout",
     "output_type": "stream",
     "text": [
      "<class 'pandas.core.frame.DataFrame'>\n",
      "Index: 22176 entries, 0 to 5543\n",
      "Data columns (total 38 columns):\n",
      " #   Column                                                   Non-Null Count  Dtype \n",
      "---  ------                                                   --------------  ----- \n",
      " 0   Brott                                                    22176 non-null  object\n",
      " 1   År                                                       22176 non-null  object\n",
      " 2   Period                                                   22176 non-null  object\n",
      " 3   Antal                                                    22176 non-null  int64 \n",
      " 4   /100 000 inv                                             22176 non-null  int64 \n",
      " 5   Region_Botkyrka kommun                                   22176 non-null  bool  \n",
      " 6   Region_Danderyd kommun                                   22176 non-null  bool  \n",
      " 7   Region_Haninge kommun                                    22176 non-null  bool  \n",
      " 8   Region_Huddinge kommun                                   22176 non-null  bool  \n",
      " 9   Region_Järfälla kommun                                   22176 non-null  bool  \n",
      " 10  Region_Knivsta kommun                                    22176 non-null  bool  \n",
      " 11  Region_Lidingö kommun                                    22176 non-null  bool  \n",
      " 12  Region_Nacka kommun                                      22176 non-null  bool  \n",
      " 13  Region_Norrtälje kommun                                  22176 non-null  bool  \n",
      " 14  Region_Salem kommun                                      22176 non-null  bool  \n",
      " 15  Region_Sigtuna kommun                                    22176 non-null  bool  \n",
      " 16  Region_Sollentuna kommun                                 22176 non-null  bool  \n",
      " 17  Region_Solna kommun                                      22176 non-null  bool  \n",
      " 18  Region_Stadsdelsområde Bromma (Sthlm)                    22176 non-null  bool  \n",
      " 19  Region_Stadsdelsområde Enskede - Årsta - Vantör (Sthlm)  22176 non-null  bool  \n",
      " 20  Region_Stadsdelsområde Farsta (Sthlm)                    22176 non-null  bool  \n",
      " 21  Region_Stadsdelsområde Hägersten-Älvsjö (Sthlm)          22176 non-null  bool  \n",
      " 22  Region_Stadsdelsområde Hässelby - Vällingby (Sthlm)      22176 non-null  bool  \n",
      " 23  Region_Stadsdelsområde Kungsholmen (Sthlm)               22176 non-null  bool  \n",
      " 24  Region_Stadsdelsområde Norrmalm (Sthlm)                  22176 non-null  bool  \n",
      " 25  Region_Stadsdelsområde Rinkeby-Kista (Sthlm)             22176 non-null  bool  \n",
      " 26  Region_Stadsdelsområde Skarpnäck (Sthlm)                 22176 non-null  bool  \n",
      " 27  Region_Stadsdelsområde Skärholmen (Sthlm)                22176 non-null  bool  \n",
      " 28  Region_Stadsdelsområde Spånga - Tensta (Sthlm)           22176 non-null  bool  \n",
      " 29  Region_Sundbyberg kommun                                 22176 non-null  bool  \n",
      " 30  Region_Södertälje kommun                                 22176 non-null  bool  \n",
      " 31  Region_Tyresö kommun                                     22176 non-null  bool  \n",
      " 32  Region_Täby kommun                                       22176 non-null  bool  \n",
      " 33  Region_Upplands Väsby kommun                             22176 non-null  bool  \n",
      " 34  Region_Vallentuna kommun                                 22176 non-null  bool  \n",
      " 35  Region_Vaxholm kommun                                    22176 non-null  bool  \n",
      " 36  Region_Värmdö kommun                                     22176 non-null  bool  \n",
      " 37  Region_Österåker kommun                                  22176 non-null  bool  \n",
      "dtypes: bool(33), int64(2), object(3)\n",
      "memory usage: 1.7+ MB\n",
      "\n",
      "<class 'pandas.core.frame.DataFrame'>\n",
      "Index: 22176 entries, 0 to 5543\n",
      "Columns: 12 entries, Region to Brott_därav misshandel inkl. grov\n",
      "dtypes: bool(7), int64(2), object(3)\n",
      "memory usage: 4.7 MB\n",
      "\n",
      "<class 'pandas.core.frame.DataFrame'>\n",
      "Index: 22176 entries, 0 to 5543\n",
      "Columns: 9 entries, Region to År_2023 prel.\n",
      "dtypes: bool(4), int64(2), object(3)\n",
      "memory usage: 5.6 MB\n",
      "\n",
      "<class 'pandas.core.frame.DataFrame'>\n",
      "Index: 22176 entries, 0 to 5543\n",
      "Columns: 17 entries, Region to Period_Sep\n",
      "dtypes: bool(12), int64(2), object(3)\n",
      "memory usage: 5.6 MB\n"
     ]
    }
   ],
   "source": [
    "# lets check\n",
    "encoded_reg.info()\n",
    "print()\n",
    "encoded_brott.info(verbose = False, memory_usage = 'deep')\n",
    "print()\n",
    "\n",
    "encoded_year.info(verbose = False, memory_usage = 'deep')\n",
    "print()\n",
    "encoded_per.info(verbose = False, memory_usage = 'deep')"
   ]
  },
  {
   "cell_type": "markdown",
   "metadata": {},
   "source": [
    "# Last Info\n",
    "\n",
    "The data i will use for ML is Antal crime, but I only have 4 years of data and I really don't know if thats enough, guess i will see after setting up my ML model.\n",
    "\n",
    "And i think if i did use per 100000 citizen then i probably need a list with how many citizen thats living in each community. Maybe that could be a later project.\n",
    "So lets dump that column we don't need.\n"
   ]
  },
  {
   "cell_type": "code",
   "execution_count": 24,
   "metadata": {},
   "outputs": [
    {
     "data": {
      "text/html": [
       "<div>\n",
       "<style scoped>\n",
       "    .dataframe tbody tr th:only-of-type {\n",
       "        vertical-align: middle;\n",
       "    }\n",
       "\n",
       "    .dataframe tbody tr th {\n",
       "        vertical-align: top;\n",
       "    }\n",
       "\n",
       "    .dataframe thead th {\n",
       "        text-align: right;\n",
       "    }\n",
       "</style>\n",
       "<table border=\"1\" class=\"dataframe\">\n",
       "  <thead>\n",
       "    <tr style=\"text-align: right;\">\n",
       "      <th></th>\n",
       "      <th>Region</th>\n",
       "      <th>Brott</th>\n",
       "      <th>År</th>\n",
       "      <th>Period</th>\n",
       "      <th>Antal</th>\n",
       "    </tr>\n",
       "  </thead>\n",
       "  <tbody>\n",
       "    <tr>\n",
       "      <th>0</th>\n",
       "      <td>Botkyrka kommun</td>\n",
       "      <td>3-7 kap. Brott mot person</td>\n",
       "      <td>2021</td>\n",
       "      <td>Jan</td>\n",
       "      <td>241</td>\n",
       "    </tr>\n",
       "    <tr>\n",
       "      <th>1</th>\n",
       "      <td>Botkyrka kommun</td>\n",
       "      <td>3-7 kap. Brott mot person</td>\n",
       "      <td>2021</td>\n",
       "      <td>Feb</td>\n",
       "      <td>238</td>\n",
       "    </tr>\n",
       "    <tr>\n",
       "      <th>2</th>\n",
       "      <td>Botkyrka kommun</td>\n",
       "      <td>3-7 kap. Brott mot person</td>\n",
       "      <td>2021</td>\n",
       "      <td>Mar</td>\n",
       "      <td>196</td>\n",
       "    </tr>\n",
       "    <tr>\n",
       "      <th>3</th>\n",
       "      <td>Botkyrka kommun</td>\n",
       "      <td>3-7 kap. Brott mot person</td>\n",
       "      <td>2021</td>\n",
       "      <td>Apr</td>\n",
       "      <td>242</td>\n",
       "    </tr>\n",
       "    <tr>\n",
       "      <th>4</th>\n",
       "      <td>Botkyrka kommun</td>\n",
       "      <td>3-7 kap. Brott mot person</td>\n",
       "      <td>2021</td>\n",
       "      <td>Maj</td>\n",
       "      <td>254</td>\n",
       "    </tr>\n",
       "    <tr>\n",
       "      <th>...</th>\n",
       "      <td>...</td>\n",
       "      <td>...</td>\n",
       "      <td>...</td>\n",
       "      <td>...</td>\n",
       "      <td>...</td>\n",
       "    </tr>\n",
       "    <tr>\n",
       "      <th>5539</th>\n",
       "      <td>Österåker kommun</td>\n",
       "      <td>7 kap. Brott mot familj</td>\n",
       "      <td>2023 prel.</td>\n",
       "      <td>Aug</td>\n",
       "      <td>0</td>\n",
       "    </tr>\n",
       "    <tr>\n",
       "      <th>5540</th>\n",
       "      <td>Österåker kommun</td>\n",
       "      <td>7 kap. Brott mot familj</td>\n",
       "      <td>2023 prel.</td>\n",
       "      <td>Sep</td>\n",
       "      <td>0</td>\n",
       "    </tr>\n",
       "    <tr>\n",
       "      <th>5541</th>\n",
       "      <td>Österåker kommun</td>\n",
       "      <td>7 kap. Brott mot familj</td>\n",
       "      <td>2023 prel.</td>\n",
       "      <td>Okt</td>\n",
       "      <td>0</td>\n",
       "    </tr>\n",
       "    <tr>\n",
       "      <th>5542</th>\n",
       "      <td>Österåker kommun</td>\n",
       "      <td>7 kap. Brott mot familj</td>\n",
       "      <td>2023 prel.</td>\n",
       "      <td>Nov</td>\n",
       "      <td>0</td>\n",
       "    </tr>\n",
       "    <tr>\n",
       "      <th>5543</th>\n",
       "      <td>Österåker kommun</td>\n",
       "      <td>7 kap. Brott mot familj</td>\n",
       "      <td>2023 prel.</td>\n",
       "      <td>Dec</td>\n",
       "      <td>1</td>\n",
       "    </tr>\n",
       "  </tbody>\n",
       "</table>\n",
       "<p>22176 rows × 5 columns</p>\n",
       "</div>"
      ],
      "text/plain": [
       "                Region                      Brott          År Period  Antal\n",
       "0      Botkyrka kommun  3-7 kap. Brott mot person        2021    Jan    241\n",
       "1      Botkyrka kommun  3-7 kap. Brott mot person        2021    Feb    238\n",
       "2      Botkyrka kommun  3-7 kap. Brott mot person        2021    Mar    196\n",
       "3      Botkyrka kommun  3-7 kap. Brott mot person        2021    Apr    242\n",
       "4      Botkyrka kommun  3-7 kap. Brott mot person        2021    Maj    254\n",
       "...                ...                        ...         ...    ...    ...\n",
       "5539  Österåker kommun    7 kap. Brott mot familj  2023 prel.    Aug      0\n",
       "5540  Österåker kommun    7 kap. Brott mot familj  2023 prel.    Sep      0\n",
       "5541  Österåker kommun    7 kap. Brott mot familj  2023 prel.    Okt      0\n",
       "5542  Österåker kommun    7 kap. Brott mot familj  2023 prel.    Nov      0\n",
       "5543  Österåker kommun    7 kap. Brott mot familj  2023 prel.    Dec      1\n",
       "\n",
       "[22176 rows x 5 columns]"
      ]
     },
     "execution_count": 24,
     "metadata": {},
     "output_type": "execute_result"
    }
   ],
   "source": [
    "df.head()\n",
    "df.drop(columns=['/100 000 inv'])\n"
   ]
  }
 ],
 "metadata": {
  "kernelspec": {
   "display_name": ".venv",
   "language": "python",
   "name": "python3"
  },
  "language_info": {
   "codemirror_mode": {
    "name": "ipython",
    "version": 3
   },
   "file_extension": ".py",
   "mimetype": "text/x-python",
   "name": "python",
   "nbconvert_exporter": "python",
   "pygments_lexer": "ipython3",
   "version": "3.12.2"
  }
 },
 "nbformat": 4,
 "nbformat_minor": 2
}
